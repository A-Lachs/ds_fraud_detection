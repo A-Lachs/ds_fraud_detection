{
 "cells": [
  {
   "cell_type": "markdown",
   "metadata": {},
   "source": [
    "This notebook contains a detailed description of the data cleaning process and the exploratory data analysis (EDA) of the original data.<br><br> \n",
    "The **goal** of this analysis is to select or engineer features that can be used to predict fraud. <br> These features will be summarized in a new data frame that can be used for modelling. \n",
    "\n",
    "**Contents**\n",
    "\n",
    "---\n",
    "\n",
    "1. [**Import Libraries**](#-1.-Import-libraries)\n",
    "2. [**Get Data**](#-2.-Get-data)\n",
    "    *   data description \n",
    "    *   `df_client`: client data\n",
    "    *   `df_invoice`: client invoice data \n",
    "3. [**Data Cleaning**](#-3.-Data-cleaning)\n",
    "    *   [renaming](#renaming)\n",
    "    *   check [missing values](#missing-values)\n",
    "    *   check [duplicates](#duplicates)\n",
    "    *   [data type conversions](#data-type-conversions)\n",
    "4. [**Exploring Features**](#-4.-Exploratory-data-analysis-(EDA))\n",
    "\n",
    "---"
   ]
  },
  {
   "cell_type": "markdown",
   "metadata": {},
   "source": [
    "# 1. Import libraries "
   ]
  },
  {
   "cell_type": "code",
   "execution_count": 1,
   "metadata": {},
   "outputs": [],
   "source": [
    "import os\n",
    "import sys\n",
    "from dotenv import load_dotenv\n",
    "\n",
    "import pandas as pd\n",
    "import numpy as np\n",
    "\n",
    "# plotting\n",
    "import matplotlib.pyplot as plt\n",
    "import seaborn as sns"
   ]
  },
  {
   "cell_type": "code",
   "execution_count": 2,
   "metadata": {},
   "outputs": [],
   "source": [
    "# get variables from .env file \n",
    "load_dotenv()\n",
    "project_path = os.getenv('PROJECT_PATH')\n",
    "\n",
    "# add path to load own functions from .py files in Scrips folder\n",
    "sys.path.insert(0, project_path + '\\Scripts')\n",
    "\n",
    "# from plotting import *\n",
    "from preprocessing import *\n"
   ]
  },
  {
   "cell_type": "code",
   "execution_count": 3,
   "metadata": {},
   "outputs": [],
   "source": [
    "# colors\n",
    "COLOR_1 = 'steelblue'\n",
    "RED_COLORS = ['#e3868d', '#E42A38', '#8a010b']  # bright, middle, dark"
   ]
  },
  {
   "cell_type": "markdown",
   "metadata": {},
   "source": [
    "# 2. Get data\n",
    "\n",
    "[Data description](data/data_description.md)"
   ]
  },
  {
   "cell_type": "code",
   "execution_count": 4,
   "metadata": {},
   "outputs": [
    {
     "name": "stdout",
     "output_type": "stream",
     "text": [
      "The client data frame has 135493 rows and 6 columns.\n",
      "The invoice data frame has 4476749 rows and 16 columns.\n"
     ]
    }
   ],
   "source": [
    "# import csv data to pandas dataframes\n",
    "df_client = pd.read_csv('../data/files/client_train.csv', parse_dates=['creation_date'], dayfirst=True, low_memory=False)\n",
    "df_invoice = pd.read_csv('../data/files/invoice_train.csv', parse_dates=['invoice_date'], dayfirst=False, low_memory=False)\n",
    "\n",
    "# Dimensions of dfs\n",
    "print(f'The client data frame has {df_client.shape[0]} rows and {df_client.shape[1]} columns.')\n",
    "print(f'The invoice data frame has {df_invoice.shape[0]} rows and {df_invoice.shape[1]} columns.')"
   ]
  },
  {
   "cell_type": "code",
   "execution_count": 5,
   "metadata": {},
   "outputs": [
    {
     "data": {
      "text/html": [
       "<div>\n",
       "<style scoped>\n",
       "    .dataframe tbody tr th:only-of-type {\n",
       "        vertical-align: middle;\n",
       "    }\n",
       "\n",
       "    .dataframe tbody tr th {\n",
       "        vertical-align: top;\n",
       "    }\n",
       "\n",
       "    .dataframe thead th {\n",
       "        text-align: right;\n",
       "    }\n",
       "</style>\n",
       "<table border=\"1\" class=\"dataframe\">\n",
       "  <thead>\n",
       "    <tr style=\"text-align: right;\">\n",
       "      <th></th>\n",
       "      <th>disrict</th>\n",
       "      <th>client_id</th>\n",
       "      <th>client_catg</th>\n",
       "      <th>region</th>\n",
       "      <th>creation_date</th>\n",
       "      <th>target</th>\n",
       "    </tr>\n",
       "  </thead>\n",
       "  <tbody>\n",
       "    <tr>\n",
       "      <th>0</th>\n",
       "      <td>60</td>\n",
       "      <td>train_Client_0</td>\n",
       "      <td>11</td>\n",
       "      <td>101</td>\n",
       "      <td>1994-12-31</td>\n",
       "      <td>0.0</td>\n",
       "    </tr>\n",
       "    <tr>\n",
       "      <th>1</th>\n",
       "      <td>69</td>\n",
       "      <td>train_Client_1</td>\n",
       "      <td>11</td>\n",
       "      <td>107</td>\n",
       "      <td>2002-05-29</td>\n",
       "      <td>0.0</td>\n",
       "    </tr>\n",
       "  </tbody>\n",
       "</table>\n",
       "</div>"
      ],
      "text/plain": [
       "   disrict       client_id  client_catg  region creation_date  target\n",
       "0       60  train_Client_0           11     101    1994-12-31     0.0\n",
       "1       69  train_Client_1           11     107    2002-05-29     0.0"
      ]
     },
     "execution_count": 5,
     "metadata": {},
     "output_type": "execute_result"
    }
   ],
   "source": [
    "df_client.head(2)"
   ]
  },
  {
   "cell_type": "code",
   "execution_count": 6,
   "metadata": {},
   "outputs": [
    {
     "data": {
      "text/html": [
       "<div>\n",
       "<style scoped>\n",
       "    .dataframe tbody tr th:only-of-type {\n",
       "        vertical-align: middle;\n",
       "    }\n",
       "\n",
       "    .dataframe tbody tr th {\n",
       "        vertical-align: top;\n",
       "    }\n",
       "\n",
       "    .dataframe thead th {\n",
       "        text-align: right;\n",
       "    }\n",
       "</style>\n",
       "<table border=\"1\" class=\"dataframe\">\n",
       "  <thead>\n",
       "    <tr style=\"text-align: right;\">\n",
       "      <th></th>\n",
       "      <th>client_id</th>\n",
       "      <th>invoice_date</th>\n",
       "      <th>tarif_type</th>\n",
       "      <th>counter_number</th>\n",
       "      <th>counter_statue</th>\n",
       "      <th>counter_code</th>\n",
       "      <th>reading_remarque</th>\n",
       "      <th>counter_coefficient</th>\n",
       "      <th>consommation_level_1</th>\n",
       "      <th>consommation_level_2</th>\n",
       "      <th>consommation_level_3</th>\n",
       "      <th>consommation_level_4</th>\n",
       "      <th>old_index</th>\n",
       "      <th>new_index</th>\n",
       "      <th>months_number</th>\n",
       "      <th>counter_type</th>\n",
       "    </tr>\n",
       "  </thead>\n",
       "  <tbody>\n",
       "    <tr>\n",
       "      <th>0</th>\n",
       "      <td>train_Client_0</td>\n",
       "      <td>2014-03-24</td>\n",
       "      <td>11</td>\n",
       "      <td>1335667</td>\n",
       "      <td>0</td>\n",
       "      <td>203</td>\n",
       "      <td>8</td>\n",
       "      <td>1</td>\n",
       "      <td>82</td>\n",
       "      <td>0</td>\n",
       "      <td>0</td>\n",
       "      <td>0</td>\n",
       "      <td>14302</td>\n",
       "      <td>14384</td>\n",
       "      <td>4</td>\n",
       "      <td>ELEC</td>\n",
       "    </tr>\n",
       "    <tr>\n",
       "      <th>1</th>\n",
       "      <td>train_Client_0</td>\n",
       "      <td>2013-03-29</td>\n",
       "      <td>11</td>\n",
       "      <td>1335667</td>\n",
       "      <td>0</td>\n",
       "      <td>203</td>\n",
       "      <td>6</td>\n",
       "      <td>1</td>\n",
       "      <td>1200</td>\n",
       "      <td>184</td>\n",
       "      <td>0</td>\n",
       "      <td>0</td>\n",
       "      <td>12294</td>\n",
       "      <td>13678</td>\n",
       "      <td>4</td>\n",
       "      <td>ELEC</td>\n",
       "    </tr>\n",
       "  </tbody>\n",
       "</table>\n",
       "</div>"
      ],
      "text/plain": [
       "        client_id invoice_date  tarif_type  counter_number counter_statue   \n",
       "0  train_Client_0   2014-03-24          11         1335667              0  \\\n",
       "1  train_Client_0   2013-03-29          11         1335667              0   \n",
       "\n",
       "   counter_code  reading_remarque  counter_coefficient  consommation_level_1   \n",
       "0           203                 8                    1                    82  \\\n",
       "1           203                 6                    1                  1200   \n",
       "\n",
       "   consommation_level_2  consommation_level_3  consommation_level_4   \n",
       "0                     0                     0                     0  \\\n",
       "1                   184                     0                     0   \n",
       "\n",
       "   old_index  new_index  months_number counter_type  \n",
       "0      14302      14384              4         ELEC  \n",
       "1      12294      13678              4         ELEC  "
      ]
     },
     "execution_count": 6,
     "metadata": {},
     "output_type": "execute_result"
    }
   ],
   "source": [
    "df_invoice.head(2)"
   ]
  },
  {
   "cell_type": "markdown",
   "metadata": {},
   "source": [
    "# 3. Data cleaning"
   ]
  },
  {
   "cell_type": "markdown",
   "metadata": {},
   "source": [
    "## Renaming"
   ]
  },
  {
   "cell_type": "code",
   "execution_count": 7,
   "metadata": {},
   "outputs": [
    {
     "data": {
      "text/html": [
       "<div>\n",
       "<style scoped>\n",
       "    .dataframe tbody tr th:only-of-type {\n",
       "        vertical-align: middle;\n",
       "    }\n",
       "\n",
       "    .dataframe tbody tr th {\n",
       "        vertical-align: top;\n",
       "    }\n",
       "\n",
       "    .dataframe thead th {\n",
       "        text-align: right;\n",
       "    }\n",
       "</style>\n",
       "<table border=\"1\" class=\"dataframe\">\n",
       "  <thead>\n",
       "    <tr style=\"text-align: right;\">\n",
       "      <th></th>\n",
       "      <th>district</th>\n",
       "      <th>client_id</th>\n",
       "      <th>client_category</th>\n",
       "      <th>region</th>\n",
       "      <th>creation_date</th>\n",
       "      <th>target</th>\n",
       "    </tr>\n",
       "  </thead>\n",
       "  <tbody>\n",
       "    <tr>\n",
       "      <th>0</th>\n",
       "      <td>60</td>\n",
       "      <td>0</td>\n",
       "      <td>11</td>\n",
       "      <td>101</td>\n",
       "      <td>1994-12-31</td>\n",
       "      <td>0.0</td>\n",
       "    </tr>\n",
       "    <tr>\n",
       "      <th>1</th>\n",
       "      <td>69</td>\n",
       "      <td>1</td>\n",
       "      <td>11</td>\n",
       "      <td>107</td>\n",
       "      <td>2002-05-29</td>\n",
       "      <td>0.0</td>\n",
       "    </tr>\n",
       "  </tbody>\n",
       "</table>\n",
       "</div>"
      ],
      "text/plain": [
       "   district  client_id  client_category  region creation_date  target\n",
       "0        60          0               11     101    1994-12-31     0.0\n",
       "1        69          1               11     107    2002-05-29     0.0"
      ]
     },
     "execution_count": 7,
     "metadata": {},
     "output_type": "execute_result"
    }
   ],
   "source": [
    "# rename columns\n",
    "df_client.rename({'disrict': 'district',\n",
    "                  'client_catg': 'client_category'\n",
    "                  }, axis=1, inplace=True)\n",
    "\n",
    "df_invoice.rename({'counter_statue': 'counter_status',\n",
    "                   'reading_remarque': 'remark',\n",
    "                   'counter_coefficient': 'counter_coeff',                   \n",
    "                   }, axis=1, inplace=True)\n",
    "\n",
    "# rename 'consommation' features 1 to 4 to consumption\n",
    "for i in range(1,5):\n",
    "   df_invoice.rename({f'consommation_level_{i}': f'consumption_lvl_{i}'}, axis=1, inplace=True)\n",
    "                      \n",
    "# remove client_id prefix from observations in client_id column\n",
    "if isinstance(df_invoice['client_id'][0], str):\n",
    "   df_invoice['client_id'] = df_invoice.client_id.str.removeprefix('train_Client_').astype(int)\n",
    "   df_client['client_id'] = df_client.client_id.str.removeprefix('train_Client_').astype(int)\n",
    "\n",
    "df_client.head(2)"
   ]
  },
  {
   "cell_type": "markdown",
   "metadata": {},
   "source": [
    "## Missing values"
   ]
  },
  {
   "cell_type": "code",
   "execution_count": 8,
   "metadata": {},
   "outputs": [
    {
     "name": "stdout",
     "output_type": "stream",
     "text": [
      "There are 0 missing values in the client data and 0 missing values in the invoice data.\n"
     ]
    }
   ],
   "source": [
    "# check for missing values\n",
    "na_client = df_client.isna().sum().sum()\n",
    "na_invoice = df_invoice.isna().sum().sum()\n",
    "print(f'There are {na_client} missing values in the client data and {na_invoice} missing values in the invoice data.')"
   ]
  },
  {
   "cell_type": "markdown",
   "metadata": {},
   "source": [
    "## Duplicates"
   ]
  },
  {
   "cell_type": "code",
   "execution_count": 9,
   "metadata": {},
   "outputs": [
    {
     "name": "stdout",
     "output_type": "stream",
     "text": [
      "There are 0 duplicated values in the client data and 11 duplicated values in the invoice data.\n"
     ]
    }
   ],
   "source": [
    "# check for duplicated values\n",
    "dupes_client = df_client.duplicated().sum()\n",
    "dupes_invoice = df_invoice.duplicated().sum()\n",
    "print(f'There are {dupes_client} duplicated values in the client data and {dupes_invoice} duplicated values in the invoice data.')\n"
   ]
  },
  {
   "cell_type": "code",
   "execution_count": 10,
   "metadata": {},
   "outputs": [
    {
     "data": {
      "text/plain": [
       "0"
      ]
     },
     "execution_count": 10,
     "metadata": {},
     "output_type": "execute_result"
    }
   ],
   "source": [
    "# remove duplicated values and check again\n",
    "df_invoice.drop_duplicates(inplace=True)\n",
    "df_invoice.duplicated().sum()"
   ]
  },
  {
   "cell_type": "markdown",
   "metadata": {},
   "source": [
    "## Data type conversions\n",
    "\n",
    "Check the data type (numeric, categorical) and the format (str, int, float) of the values in each column and do conversions where necessary. <br><br>\n",
    "\n",
    "**Workflow**\n",
    "\n",
    "---\n",
    "1.  Check data type of each column with `.info()`\n",
    "2.  Check number of unique values for each column with `.nunique()`\n",
    "    - A small number of unique values (usually) indicates a categorical variable\n",
    "    - A large number of unique values (usually) indicates a numerical variable\n",
    "    - To be sure look at the unique values\n",
    "3. Do data type conversion using the function `convert_column_type` from `preprocessing.py` in Scripts directory\n",
    "    - first convert column data types to int/str\n",
    "    - then convert column data to categorical if necessary\n",
    "* Converting a string variable to a categorical variable will save some memory\n"
   ]
  },
  {
   "cell_type": "markdown",
   "metadata": {},
   "source": [
    "### Client data"
   ]
  },
  {
   "cell_type": "code",
   "execution_count": 11,
   "metadata": {},
   "outputs": [
    {
     "name": "stdout",
     "output_type": "stream",
     "text": [
      "<class 'pandas.core.frame.DataFrame'>\n",
      "RangeIndex: 135493 entries, 0 to 135492\n",
      "Data columns (total 6 columns):\n",
      " #   Column           Non-Null Count   Dtype         \n",
      "---  ------           --------------   -----         \n",
      " 0   district         135493 non-null  int64         \n",
      " 1   client_id        135493 non-null  int32         \n",
      " 2   client_category  135493 non-null  int64         \n",
      " 3   region           135493 non-null  int64         \n",
      " 4   creation_date    135493 non-null  datetime64[ns]\n",
      " 5   target           135493 non-null  float64       \n",
      "dtypes: datetime64[ns](1), float64(1), int32(1), int64(3)\n",
      "memory usage: 5.7 MB\n"
     ]
    }
   ],
   "source": [
    "df_client.info()"
   ]
  },
  {
   "cell_type": "code",
   "execution_count": 12,
   "metadata": {},
   "outputs": [
    {
     "data": {
      "text/plain": [
       "district                4\n",
       "client_id          135493\n",
       "client_category         3\n",
       "region                 25\n",
       "creation_date        8088\n",
       "target                  2\n",
       "dtype: int64"
      ]
     },
     "execution_count": 12,
     "metadata": {},
     "output_type": "execute_result"
    }
   ],
   "source": [
    "# getting unique values for each column to get an idea about numerical/categorical features\n",
    "df_client.nunique()"
   ]
  },
  {
   "cell_type": "markdown",
   "metadata": {},
   "source": [
    "All features (except the creation_date) will be converted to categorical type."
   ]
  },
  {
   "cell_type": "code",
   "execution_count": 13,
   "metadata": {},
   "outputs": [
    {
     "name": "stdout",
     "output_type": "stream",
     "text": [
      "<class 'pandas.core.frame.DataFrame'>\n",
      "RangeIndex: 135493 entries, 0 to 135492\n",
      "Data columns (total 6 columns):\n",
      " #   Column           Non-Null Count   Dtype         \n",
      "---  ------           --------------   -----         \n",
      " 0   district         135493 non-null  category      \n",
      " 1   client_id        135493 non-null  category      \n",
      " 2   client_category  135493 non-null  category      \n",
      " 3   region           135493 non-null  category      \n",
      " 4   creation_date    135493 non-null  datetime64[ns]\n",
      " 5   target           135493 non-null  category      \n",
      "dtypes: category(5), datetime64[ns](1)\n",
      "memory usage: 7.1 MB\n"
     ]
    }
   ],
   "source": [
    "# step 1: convert to str\n",
    "cols_to_str = ['district', 'client_category', 'region', 'client_id']\n",
    "df_client = convert_column_type(df_client, cols_to_str, str)\n",
    "\n",
    "# step 1: convert to int\n",
    "df_client = convert_column_type(df_client, 'target', int)\n",
    "\n",
    "# step 2: convert to category\n",
    "df_client = convert_column_type(df_client, cols_to_str, 'category') # for percentage calculations \n",
    "df_client = convert_column_type(df_client, 'target', 'category')\n",
    "\n",
    "# check conversions\n",
    "df_client.info()"
   ]
  },
  {
   "cell_type": "markdown",
   "metadata": {},
   "source": [
    "### Invoice data"
   ]
  },
  {
   "cell_type": "code",
   "execution_count": null,
   "metadata": {},
   "outputs": [],
   "source": [
    "df_invoice.info()"
   ]
  },
  {
   "cell_type": "code",
   "execution_count": null,
   "metadata": {},
   "outputs": [],
   "source": [
    "# getting unique values for each column to get an idea about numerical/categorical features\n",
    "df_invoice.nunique()"
   ]
  },
  {
   "cell_type": "markdown",
   "metadata": {},
   "source": [
    "- **Convert to str and category**: <br>['client_id', 'tarif_type', 'counter_status', 'counter_code', \n",
    "               'remark', 'counter_coeff', 'old_index', 'new_index', 'counter_type']\n",
    "- **To be decided**: <br>months_number, counter_number"
   ]
  },
  {
   "cell_type": "code",
   "execution_count": 14,
   "metadata": {},
   "outputs": [
    {
     "name": "stdout",
     "output_type": "stream",
     "text": [
      "<class 'pandas.core.frame.DataFrame'>\n",
      "Index: 4476738 entries, 0 to 4476748\n",
      "Data columns (total 16 columns):\n",
      " #   Column             Dtype         \n",
      "---  ------             -----         \n",
      " 0   client_id          category      \n",
      " 1   invoice_date       datetime64[ns]\n",
      " 2   tarif_type         category      \n",
      " 3   counter_number     int64         \n",
      " 4   counter_status     category      \n",
      " 5   counter_code       category      \n",
      " 6   remark             category      \n",
      " 7   counter_coeff      category      \n",
      " 8   consumption_lvl_1  int64         \n",
      " 9   consumption_lvl_2  int64         \n",
      " 10  consumption_lvl_3  int64         \n",
      " 11  consumption_lvl_4  int64         \n",
      " 12  old_index          category      \n",
      " 13  new_index          category      \n",
      " 14  months_number      int64         \n",
      " 15  counter_type       category      \n",
      "dtypes: category(9), datetime64[ns](1), int64(6)\n",
      "memory usage: 365.6 MB\n"
     ]
    }
   ],
   "source": [
    "# step 1: convert to str\n",
    "cols_to_str = ['client_id', 'tarif_type', 'counter_status', 'counter_code', \n",
    "               'remark', 'counter_coeff', 'old_index', 'new_index', 'counter_type']\n",
    "df_invoice = convert_column_type(df_invoice, cols_to_str, str)\n",
    "\n",
    "# step 2: convert to category\n",
    "df_invoice = convert_column_type(df_invoice, cols_to_str, 'category') # for percentage calculations \n",
    "\n",
    "df_invoice.info()"
   ]
  },
  {
   "cell_type": "markdown",
   "metadata": {},
   "source": [
    "# 4. Exploratory data analysis (EDA)"
   ]
  },
  {
   "cell_type": "code",
   "execution_count": null,
   "metadata": {},
   "outputs": [],
   "source": []
  }
 ],
 "metadata": {
  "kernelspec": {
   "display_name": ".venv",
   "language": "python",
   "name": "python3"
  },
  "language_info": {
   "codemirror_mode": {
    "name": "ipython",
    "version": 3
   },
   "file_extension": ".py",
   "mimetype": "text/x-python",
   "name": "python",
   "nbconvert_exporter": "python",
   "pygments_lexer": "ipython3",
   "version": "3.11.3"
  }
 },
 "nbformat": 4,
 "nbformat_minor": 2
}
