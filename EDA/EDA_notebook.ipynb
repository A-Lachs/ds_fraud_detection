{
 "cells": [
  {
   "cell_type": "markdown",
   "metadata": {},
   "source": [
    "This notebook contains a detailed description of the data cleaning process and the exploratory data analysis (EDA) of the original data.<br><br> \n",
    "The **goal** of this analysis is to select or engineer features that can be used to predict fraud. <br> These features will be summarized in a new data frame that can be used for modelling. \n",
    "\n",
    "**Contents**\n",
    "\n",
    "---\n",
    "\n",
    "1. [**Import Libraries**](#1-import-libraries)\n",
    "2. [**Get Data**](#get_data)\n",
    "    *   data description \n",
    "    *   `df_client`: client data\n",
    "    *   `df_invoice`: client invoice data \n",
    "3. [**Data Cleaning**](#3-data-cleaning)\n",
    "    *   [renaming](#renaming)\n",
    "    *   check [missing values](#missing-values)\n",
    "    *   check [duplicates](#duplicates)\n",
    "    *   [data type conversions](#data-type-conversions)\n",
    "4. [**Exploring Features**](#4-eda---data-exploration)\n",
    "\n",
    "---"
   ]
  },
  {
   "cell_type": "markdown",
   "metadata": {},
   "source": [
    "# 1. Import libraries "
   ]
  },
  {
   "cell_type": "code",
   "execution_count": 1,
   "metadata": {},
   "outputs": [],
   "source": [
    "import os\n",
    "import sys\n",
    "from dotenv import load_dotenv\n",
    "\n",
    "import pandas as pd\n",
    "import numpy as np\n",
    "\n",
    "# plotting\n",
    "import matplotlib.pyplot as plt\n",
    "import seaborn as sns"
   ]
  },
  {
   "cell_type": "code",
   "execution_count": 2,
   "metadata": {},
   "outputs": [],
   "source": [
    "# get variables from .env file \n",
    "load_dotenv()\n",
    "project_path = os.getenv('PROJECT_PATH')\n",
    "\n",
    "# add path to load own functions from .py files in Scrips folder\n",
    "sys.path.insert(0, project_path + '\\Scripts')\n",
    "\n",
    "from plotting import *\n",
    "from preprocessing import *\n"
   ]
  },
  {
   "cell_type": "code",
   "execution_count": 3,
   "metadata": {},
   "outputs": [],
   "source": [
    "# colors\n",
    "COLOR_1 = 'steelblue'\n",
    "RED_COLORS = ['#e3868d', '#E42A38', '#8a010b']  # bright, middle, dark\n",
    "\n",
    "# fraud values for plots and grouping \n",
    "FRAUD_BASELINE:float    # defined at beginning of 4.EDA  \n",
    "FRAUD_RANGE = 1.5       # +/- range from baseline considered \"normal\" fraud rate\n",
    "\n",
    "# list of column names that are used for modelling\n",
    "CAT_FEATURES = []\n",
    "NUM_FEATURES = []"
   ]
  },
  {
   "cell_type": "markdown",
   "metadata": {},
   "source": [
    "<a id='get_data'></a>\n",
    "\n",
    "# 2. Get data\n",
    "\n",
    "[Data description](../data/data_description.md)"
   ]
  },
  {
   "cell_type": "code",
   "execution_count": 4,
   "metadata": {},
   "outputs": [
    {
     "name": "stdout",
     "output_type": "stream",
     "text": [
      "The client data frame has 135493 rows and 6 columns.\n",
      "The invoice data frame has 4476749 rows and 16 columns.\n"
     ]
    }
   ],
   "source": [
    "# import csv data to pandas dataframes\n",
    "df_client = pd.read_csv('../data/files/client_train.csv', parse_dates=['creation_date'], dayfirst=True, low_memory=False)\n",
    "df_invoice = pd.read_csv('../data/files/invoice_train.csv', parse_dates=['invoice_date'], dayfirst=False, low_memory=False)\n",
    "\n",
    "# Dimensions of dfs\n",
    "print(f'The client data frame has {df_client.shape[0]} rows and {df_client.shape[1]} columns.')\n",
    "print(f'The invoice data frame has {df_invoice.shape[0]} rows and {df_invoice.shape[1]} columns.')"
   ]
  },
  {
   "cell_type": "code",
   "execution_count": 5,
   "metadata": {},
   "outputs": [
    {
     "data": {
      "text/html": [
       "<div>\n",
       "<style scoped>\n",
       "    .dataframe tbody tr th:only-of-type {\n",
       "        vertical-align: middle;\n",
       "    }\n",
       "\n",
       "    .dataframe tbody tr th {\n",
       "        vertical-align: top;\n",
       "    }\n",
       "\n",
       "    .dataframe thead th {\n",
       "        text-align: right;\n",
       "    }\n",
       "</style>\n",
       "<table border=\"1\" class=\"dataframe\">\n",
       "  <thead>\n",
       "    <tr style=\"text-align: right;\">\n",
       "      <th></th>\n",
       "      <th>disrict</th>\n",
       "      <th>client_id</th>\n",
       "      <th>client_catg</th>\n",
       "      <th>region</th>\n",
       "      <th>creation_date</th>\n",
       "      <th>target</th>\n",
       "    </tr>\n",
       "  </thead>\n",
       "  <tbody>\n",
       "    <tr>\n",
       "      <th>0</th>\n",
       "      <td>60</td>\n",
       "      <td>train_Client_0</td>\n",
       "      <td>11</td>\n",
       "      <td>101</td>\n",
       "      <td>1994-12-31</td>\n",
       "      <td>0.0</td>\n",
       "    </tr>\n",
       "    <tr>\n",
       "      <th>1</th>\n",
       "      <td>69</td>\n",
       "      <td>train_Client_1</td>\n",
       "      <td>11</td>\n",
       "      <td>107</td>\n",
       "      <td>2002-05-29</td>\n",
       "      <td>0.0</td>\n",
       "    </tr>\n",
       "  </tbody>\n",
       "</table>\n",
       "</div>"
      ],
      "text/plain": [
       "   disrict       client_id  client_catg  region creation_date  target\n",
       "0       60  train_Client_0           11     101    1994-12-31     0.0\n",
       "1       69  train_Client_1           11     107    2002-05-29     0.0"
      ]
     },
     "execution_count": 5,
     "metadata": {},
     "output_type": "execute_result"
    }
   ],
   "source": [
    "df_client.head(2)"
   ]
  },
  {
   "cell_type": "code",
   "execution_count": 6,
   "metadata": {},
   "outputs": [
    {
     "data": {
      "text/html": [
       "<div>\n",
       "<style scoped>\n",
       "    .dataframe tbody tr th:only-of-type {\n",
       "        vertical-align: middle;\n",
       "    }\n",
       "\n",
       "    .dataframe tbody tr th {\n",
       "        vertical-align: top;\n",
       "    }\n",
       "\n",
       "    .dataframe thead th {\n",
       "        text-align: right;\n",
       "    }\n",
       "</style>\n",
       "<table border=\"1\" class=\"dataframe\">\n",
       "  <thead>\n",
       "    <tr style=\"text-align: right;\">\n",
       "      <th></th>\n",
       "      <th>client_id</th>\n",
       "      <th>invoice_date</th>\n",
       "      <th>tarif_type</th>\n",
       "      <th>counter_number</th>\n",
       "      <th>counter_statue</th>\n",
       "      <th>counter_code</th>\n",
       "      <th>reading_remarque</th>\n",
       "      <th>counter_coefficient</th>\n",
       "      <th>consommation_level_1</th>\n",
       "      <th>consommation_level_2</th>\n",
       "      <th>consommation_level_3</th>\n",
       "      <th>consommation_level_4</th>\n",
       "      <th>old_index</th>\n",
       "      <th>new_index</th>\n",
       "      <th>months_number</th>\n",
       "      <th>counter_type</th>\n",
       "    </tr>\n",
       "  </thead>\n",
       "  <tbody>\n",
       "    <tr>\n",
       "      <th>0</th>\n",
       "      <td>train_Client_0</td>\n",
       "      <td>2014-03-24</td>\n",
       "      <td>11</td>\n",
       "      <td>1335667</td>\n",
       "      <td>0</td>\n",
       "      <td>203</td>\n",
       "      <td>8</td>\n",
       "      <td>1</td>\n",
       "      <td>82</td>\n",
       "      <td>0</td>\n",
       "      <td>0</td>\n",
       "      <td>0</td>\n",
       "      <td>14302</td>\n",
       "      <td>14384</td>\n",
       "      <td>4</td>\n",
       "      <td>ELEC</td>\n",
       "    </tr>\n",
       "    <tr>\n",
       "      <th>1</th>\n",
       "      <td>train_Client_0</td>\n",
       "      <td>2013-03-29</td>\n",
       "      <td>11</td>\n",
       "      <td>1335667</td>\n",
       "      <td>0</td>\n",
       "      <td>203</td>\n",
       "      <td>6</td>\n",
       "      <td>1</td>\n",
       "      <td>1200</td>\n",
       "      <td>184</td>\n",
       "      <td>0</td>\n",
       "      <td>0</td>\n",
       "      <td>12294</td>\n",
       "      <td>13678</td>\n",
       "      <td>4</td>\n",
       "      <td>ELEC</td>\n",
       "    </tr>\n",
       "  </tbody>\n",
       "</table>\n",
       "</div>"
      ],
      "text/plain": [
       "        client_id invoice_date  tarif_type  counter_number counter_statue   \n",
       "0  train_Client_0   2014-03-24          11         1335667              0  \\\n",
       "1  train_Client_0   2013-03-29          11         1335667              0   \n",
       "\n",
       "   counter_code  reading_remarque  counter_coefficient  consommation_level_1   \n",
       "0           203                 8                    1                    82  \\\n",
       "1           203                 6                    1                  1200   \n",
       "\n",
       "   consommation_level_2  consommation_level_3  consommation_level_4   \n",
       "0                     0                     0                     0  \\\n",
       "1                   184                     0                     0   \n",
       "\n",
       "   old_index  new_index  months_number counter_type  \n",
       "0      14302      14384              4         ELEC  \n",
       "1      12294      13678              4         ELEC  "
      ]
     },
     "execution_count": 6,
     "metadata": {},
     "output_type": "execute_result"
    }
   ],
   "source": [
    "df_invoice.head(2)"
   ]
  },
  {
   "cell_type": "markdown",
   "metadata": {},
   "source": [
    "# 3. Data cleaning"
   ]
  },
  {
   "cell_type": "markdown",
   "metadata": {},
   "source": [
    "## Renaming"
   ]
  },
  {
   "cell_type": "code",
   "execution_count": 7,
   "metadata": {},
   "outputs": [
    {
     "data": {
      "text/html": [
       "<div>\n",
       "<style scoped>\n",
       "    .dataframe tbody tr th:only-of-type {\n",
       "        vertical-align: middle;\n",
       "    }\n",
       "\n",
       "    .dataframe tbody tr th {\n",
       "        vertical-align: top;\n",
       "    }\n",
       "\n",
       "    .dataframe thead th {\n",
       "        text-align: right;\n",
       "    }\n",
       "</style>\n",
       "<table border=\"1\" class=\"dataframe\">\n",
       "  <thead>\n",
       "    <tr style=\"text-align: right;\">\n",
       "      <th></th>\n",
       "      <th>district</th>\n",
       "      <th>client_id</th>\n",
       "      <th>client_category</th>\n",
       "      <th>region</th>\n",
       "      <th>creation_date</th>\n",
       "      <th>target</th>\n",
       "    </tr>\n",
       "  </thead>\n",
       "  <tbody>\n",
       "    <tr>\n",
       "      <th>0</th>\n",
       "      <td>60</td>\n",
       "      <td>0</td>\n",
       "      <td>11</td>\n",
       "      <td>101</td>\n",
       "      <td>1994-12-31</td>\n",
       "      <td>0.0</td>\n",
       "    </tr>\n",
       "    <tr>\n",
       "      <th>1</th>\n",
       "      <td>69</td>\n",
       "      <td>1</td>\n",
       "      <td>11</td>\n",
       "      <td>107</td>\n",
       "      <td>2002-05-29</td>\n",
       "      <td>0.0</td>\n",
       "    </tr>\n",
       "  </tbody>\n",
       "</table>\n",
       "</div>"
      ],
      "text/plain": [
       "   district  client_id  client_category  region creation_date  target\n",
       "0        60          0               11     101    1994-12-31     0.0\n",
       "1        69          1               11     107    2002-05-29     0.0"
      ]
     },
     "execution_count": 7,
     "metadata": {},
     "output_type": "execute_result"
    }
   ],
   "source": [
    "# rename columns\n",
    "df_client.rename({'disrict': 'district',\n",
    "                  'client_catg': 'client_category'\n",
    "                  }, axis=1, inplace=True)\n",
    "\n",
    "df_invoice.rename({'counter_statue': 'counter_status',\n",
    "                   'reading_remarque': 'remark',\n",
    "                   'counter_coefficient': 'counter_coeff',                   \n",
    "                   }, axis=1, inplace=True)\n",
    "\n",
    "# rename 'consommation' features 1 to 4 to consumption\n",
    "for i in range(1,5):\n",
    "   df_invoice.rename({f'consommation_level_{i}': f'consumption_lvl_{i}'}, axis=1, inplace=True)\n",
    "                      \n",
    "# remove client_id prefix from observations in client_id column\n",
    "if isinstance(df_invoice['client_id'][0], str):\n",
    "   df_invoice['client_id'] = df_invoice.client_id.str.removeprefix('train_Client_').astype(int)\n",
    "   df_client['client_id'] = df_client.client_id.str.removeprefix('train_Client_').astype(int)\n",
    "\n",
    "df_client.head(2)"
   ]
  },
  {
   "cell_type": "markdown",
   "metadata": {},
   "source": [
    "## Missing values"
   ]
  },
  {
   "cell_type": "code",
   "execution_count": 8,
   "metadata": {},
   "outputs": [
    {
     "name": "stdout",
     "output_type": "stream",
     "text": [
      "There are 0 missing values in the client data and 0 missing values in the invoice data.\n"
     ]
    }
   ],
   "source": [
    "# check for missing values\n",
    "na_client = df_client.isna().sum().sum()\n",
    "na_invoice = df_invoice.isna().sum().sum()\n",
    "print(f'There are {na_client} missing values in the client data and {na_invoice} missing values in the invoice data.')"
   ]
  },
  {
   "cell_type": "markdown",
   "metadata": {},
   "source": [
    "## Duplicates"
   ]
  },
  {
   "cell_type": "code",
   "execution_count": 9,
   "metadata": {},
   "outputs": [
    {
     "name": "stdout",
     "output_type": "stream",
     "text": [
      "There are 0 duplicated values in the client data and 11 duplicated values in the invoice data.\n"
     ]
    }
   ],
   "source": [
    "# check for duplicated values\n",
    "dupes_client = df_client.duplicated().sum()\n",
    "dupes_invoice = df_invoice.duplicated().sum()\n",
    "print(f'There are {dupes_client} duplicated values in the client data and {dupes_invoice} duplicated values in the invoice data.')\n"
   ]
  },
  {
   "cell_type": "code",
   "execution_count": 10,
   "metadata": {},
   "outputs": [
    {
     "data": {
      "text/plain": [
       "0"
      ]
     },
     "execution_count": 10,
     "metadata": {},
     "output_type": "execute_result"
    }
   ],
   "source": [
    "# remove duplicated values and check again\n",
    "df_invoice.drop_duplicates(inplace=True)\n",
    "df_invoice.duplicated().sum()"
   ]
  },
  {
   "cell_type": "markdown",
   "metadata": {},
   "source": [
    "## Data type conversions\n",
    "\n",
    "Check the data type (numeric, categorical) and the format (str, int, float) of the values in each column and do conversions where necessary. <br><br>\n",
    "\n",
    "**Workflow**\n",
    "\n",
    "---\n",
    "1.  Check data type of each column with `.info()`\n",
    "2.  Check number of unique values for each column with `.nunique()`\n",
    "    - A small number of unique values (usually) indicates a categorical variable\n",
    "    - A large number of unique values (usually) indicates a numerical variable\n",
    "    - To be sure look at the unique values\n",
    "3. Do data type conversion using the function `convert_column_type` from `preprocessing.py` in Scripts directory\n",
    "    - first convert column data types to int/str\n",
    "    - then convert column data to categorical if necessary\n",
    "* Converting a string variable to a categorical variable will save some memory\n"
   ]
  },
  {
   "cell_type": "markdown",
   "metadata": {},
   "source": [
    "### Client data"
   ]
  },
  {
   "cell_type": "code",
   "execution_count": 11,
   "metadata": {},
   "outputs": [
    {
     "name": "stdout",
     "output_type": "stream",
     "text": [
      "<class 'pandas.core.frame.DataFrame'>\n",
      "RangeIndex: 135493 entries, 0 to 135492\n",
      "Data columns (total 6 columns):\n",
      " #   Column           Non-Null Count   Dtype         \n",
      "---  ------           --------------   -----         \n",
      " 0   district         135493 non-null  int64         \n",
      " 1   client_id        135493 non-null  int32         \n",
      " 2   client_category  135493 non-null  int64         \n",
      " 3   region           135493 non-null  int64         \n",
      " 4   creation_date    135493 non-null  datetime64[ns]\n",
      " 5   target           135493 non-null  float64       \n",
      "dtypes: datetime64[ns](1), float64(1), int32(1), int64(3)\n",
      "memory usage: 5.7 MB\n"
     ]
    }
   ],
   "source": [
    "df_client.info()"
   ]
  },
  {
   "cell_type": "code",
   "execution_count": 12,
   "metadata": {},
   "outputs": [
    {
     "data": {
      "text/plain": [
       "district                4\n",
       "client_id          135493\n",
       "client_category         3\n",
       "region                 25\n",
       "creation_date        8088\n",
       "target                  2\n",
       "dtype: int64"
      ]
     },
     "execution_count": 12,
     "metadata": {},
     "output_type": "execute_result"
    }
   ],
   "source": [
    "# getting unique values for each column to get an idea about numerical/categorical features\n",
    "df_client.nunique()"
   ]
  },
  {
   "cell_type": "markdown",
   "metadata": {},
   "source": [
    "All features (except the creation_date) will be converted to categorical type."
   ]
  },
  {
   "cell_type": "code",
   "execution_count": 13,
   "metadata": {},
   "outputs": [
    {
     "name": "stdout",
     "output_type": "stream",
     "text": [
      "<class 'pandas.core.frame.DataFrame'>\n",
      "RangeIndex: 135493 entries, 0 to 135492\n",
      "Data columns (total 6 columns):\n",
      " #   Column           Non-Null Count   Dtype         \n",
      "---  ------           --------------   -----         \n",
      " 0   district         135493 non-null  category      \n",
      " 1   client_id        135493 non-null  category      \n",
      " 2   client_category  135493 non-null  category      \n",
      " 3   region           135493 non-null  category      \n",
      " 4   creation_date    135493 non-null  datetime64[ns]\n",
      " 5   target           135493 non-null  category      \n",
      "dtypes: category(5), datetime64[ns](1)\n",
      "memory usage: 7.1 MB\n"
     ]
    }
   ],
   "source": [
    "# step 1: convert to str\n",
    "cols_to_str = ['district', 'client_category', 'region', 'client_id']\n",
    "df_client = convert_column_type(df_client, cols_to_str, str)\n",
    "\n",
    "# step 1: convert to int\n",
    "df_client = convert_column_type(df_client, 'target', int)\n",
    "\n",
    "# step 2: convert to category\n",
    "df_client = convert_column_type(df_client, cols_to_str, 'category') # for percentage calculations \n",
    "df_client = convert_column_type(df_client, 'target', 'category')\n",
    "\n",
    "# check conversions\n",
    "df_client.info()"
   ]
  },
  {
   "cell_type": "markdown",
   "metadata": {},
   "source": [
    "### Invoice data"
   ]
  },
  {
   "cell_type": "code",
   "execution_count": 14,
   "metadata": {},
   "outputs": [
    {
     "name": "stdout",
     "output_type": "stream",
     "text": [
      "<class 'pandas.core.frame.DataFrame'>\n",
      "Index: 4476738 entries, 0 to 4476748\n",
      "Data columns (total 16 columns):\n",
      " #   Column             Dtype         \n",
      "---  ------             -----         \n",
      " 0   client_id          int32         \n",
      " 1   invoice_date       datetime64[ns]\n",
      " 2   tarif_type         int64         \n",
      " 3   counter_number     int64         \n",
      " 4   counter_status     object        \n",
      " 5   counter_code       int64         \n",
      " 6   remark             int64         \n",
      " 7   counter_coeff      int64         \n",
      " 8   consumption_lvl_1  int64         \n",
      " 9   consumption_lvl_2  int64         \n",
      " 10  consumption_lvl_3  int64         \n",
      " 11  consumption_lvl_4  int64         \n",
      " 12  old_index          int64         \n",
      " 13  new_index          int64         \n",
      " 14  months_number      int64         \n",
      " 15  counter_type       object        \n",
      "dtypes: datetime64[ns](1), int32(1), int64(12), object(2)\n",
      "memory usage: 563.6+ MB\n"
     ]
    }
   ],
   "source": [
    "df_invoice.info()"
   ]
  },
  {
   "cell_type": "code",
   "execution_count": 15,
   "metadata": {},
   "outputs": [
    {
     "data": {
      "text/plain": [
       "client_id            135493\n",
       "invoice_date           8275\n",
       "tarif_type               17\n",
       "counter_number       201893\n",
       "counter_status           12\n",
       "counter_code             42\n",
       "remark                    8\n",
       "counter_coeff            16\n",
       "consumption_lvl_1      8295\n",
       "consumption_lvl_2     12576\n",
       "consumption_lvl_3      2253\n",
       "consumption_lvl_4     12075\n",
       "old_index            155648\n",
       "new_index            157980\n",
       "months_number          1370\n",
       "counter_type              2\n",
       "dtype: int64"
      ]
     },
     "execution_count": 15,
     "metadata": {},
     "output_type": "execute_result"
    }
   ],
   "source": [
    "# getting unique values for each column to get an idea about numerical/categorical features\n",
    "df_invoice.nunique()"
   ]
  },
  {
   "cell_type": "markdown",
   "metadata": {},
   "source": [
    "- **Convert to str and category**: <br>['client_id', 'tarif_type', 'counter_status', 'counter_code', \n",
    "               'remark', 'counter_coeff', 'old_index', 'new_index', 'counter_type']\n",
    "- **To be decided**: <br>months_number, counter_number"
   ]
  },
  {
   "cell_type": "code",
   "execution_count": 16,
   "metadata": {},
   "outputs": [
    {
     "name": "stdout",
     "output_type": "stream",
     "text": [
      "<class 'pandas.core.frame.DataFrame'>\n",
      "Index: 4476738 entries, 0 to 4476748\n",
      "Data columns (total 16 columns):\n",
      " #   Column             Dtype         \n",
      "---  ------             -----         \n",
      " 0   client_id          category      \n",
      " 1   invoice_date       datetime64[ns]\n",
      " 2   tarif_type         category      \n",
      " 3   counter_number     int64         \n",
      " 4   counter_status     category      \n",
      " 5   counter_code       category      \n",
      " 6   remark             category      \n",
      " 7   counter_coeff      category      \n",
      " 8   consumption_lvl_1  int64         \n",
      " 9   consumption_lvl_2  int64         \n",
      " 10  consumption_lvl_3  int64         \n",
      " 11  consumption_lvl_4  int64         \n",
      " 12  old_index          category      \n",
      " 13  new_index          category      \n",
      " 14  months_number      int64         \n",
      " 15  counter_type       category      \n",
      "dtypes: category(9), datetime64[ns](1), int64(6)\n",
      "memory usage: 365.6 MB\n"
     ]
    }
   ],
   "source": [
    "# step 1: convert to str\n",
    "cols_to_str = ['client_id', 'tarif_type', 'counter_status', 'counter_code', \n",
    "               'remark', 'counter_coeff', 'old_index', 'new_index', 'counter_type']\n",
    "df_invoice = convert_column_type(df_invoice, cols_to_str, str)\n",
    "\n",
    "# step 2: convert to category\n",
    "df_invoice = convert_column_type(df_invoice, cols_to_str, 'category') # for percentage calculations \n",
    "\n",
    "df_invoice.info()"
   ]
  },
  {
   "cell_type": "markdown",
   "metadata": {},
   "source": [
    "# 4. EDA - data exploration"
   ]
  },
  {
   "cell_type": "markdown",
   "metadata": {},
   "source": [
    "## What is the overall fraud rate in the sample? (Baseline)\n"
   ]
  },
  {
   "cell_type": "code",
   "execution_count": 17,
   "metadata": {},
   "outputs": [
    {
     "name": "stdout",
     "output_type": "stream",
     "text": [
      "There are 135493 clients in the sample.\n",
      "Of those clients 5.58 % show normal and 94.42 % fraudulent activity \n",
      "in electricity and/ or gas consumption.\n"
     ]
    },
    {
     "data": {
      "image/png": "[encoded data removed]",
      "text/plain": [
       "<Figure size 640x480 with 1 Axes>"
      ]
     },
     "metadata": {},
     "output_type": "display_data"
    }
   ],
   "source": [
    "# general information about the data\n",
    "\n",
    "FRAUD_BASELINE = get_fraud_proportion(df_client) \n",
    "\n",
    "print(f'There are {df_client.client_id.nunique()} clients in the sample.')\n",
    "print(f'Of those clients {round(FRAUD_BASELINE, 2)} % show normal and '\n",
    "      f'{round(100 - FRAUD_BASELINE, 2)} % fraudulent activity \\nin electricity and/ or gas consumption.')\n",
    "\n",
    "create_fraud_freq_pieplot(df_client)  # function from Scripts/plotting.py"
   ]
  },
  {
   "cell_type": "markdown",
   "metadata": {},
   "source": [
    "## Explore categorical features\n",
    "\n",
    "**Goal**: Select or create features to model fraud \n",
    "\n",
    "**Workflow**: \n",
    "1)    Find out how the categories of a feature are related to fraud\n",
    "   *   Get an overview with the help of a figure using <br> `subplopts_fraud_per_category()` function from `plotting.py` script <br> <br>\n",
    "        *   Left subplot: Categorical features are grouped by target 'energy consumption' (normal / fraud)\n",
    "        *   Right subplot: The fraud rate for each feature category is compared to the overall fraud rate (baseline)\n",
    "\n",
    "2)   If indicated, create a new categorical feature `fraud_risk` \n",
    "\n",
    "*   The fraud_risk feature has 3 levels (0: low, 1: normal, 2: high) created from feature categories <br> in which the fraud rate is smaller, similar or higher compared to the baseline \n",
    "*   using `create_fraud_risk_feature()` function from `feature_engineering.py` script\n",
    "\n",
    "3)  Save the feature names of the features to be used for modeling in `CAT_FEATURES` "
   ]
  },
  {
   "cell_type": "markdown",
   "metadata": {},
   "source": [
    "### Feature `region`"
   ]
  },
  {
   "cell_type": "code",
   "execution_count": 18,
   "metadata": {},
   "outputs": [
    {
     "data": {
      "image/png": "[encoded data removed]",
      "text/plain": [
       "<Figure size 1200x500 with 2 Axes>"
      ]
     },
     "metadata": {},
     "output_type": "display_data"
    },
    {
     "name": "stdout",
     "output_type": "stream",
     "text": [
      "The feature region has 25 categories that are reassigned to the new feature \"fraud risk\".\n",
      "\"Fraud risk\" has 3 levels ('low', 'normal', 'high')\n",
      "Normal risk is defined within the dashed lines (baseline of 5.58 +/- 1.5).\n",
      "\n",
      "low: ['101', '301', '206', '399', '199']\n",
      "normal: ['313', '379', '304', '107', '307', '302', '305', '104', '105', '303', '310', '312', '306', '309']\n",
      "high: ['103', '372', '311', '106', '308', '371']\n"
     ]
    }
   ],
   "source": [
    "# 1. Plotting \n",
    "grouped_df_region, risk_categories_region = subplopts_fraud_per_category(df_client, \n",
    "                                                                         feature='region', \n",
    "                                                                         fraud_baseline=FRAUD_BASELINE, \n",
    "                                                                         fraud_range=FRAUD_RANGE, \n",
    "                                                                         verbose=True)"
   ]
  },
  {
   "cell_type": "markdown",
   "metadata": {},
   "source": [
    "Comment:\n",
    "-   in the plot on the right we can see that some regions have a fraud rate lower, similar or higher than baseline (different shades of red)\n",
    "-   this can be used to create a new freature where these regions are assigned to the three different fraud risk categories (low, normal, high)"
   ]
  },
  {
   "cell_type": "code",
   "execution_count": 19,
   "metadata": {},
   "outputs": [
    {
     "name": "stdout",
     "output_type": "stream",
     "text": [
      "\n",
      "New feature \"risk_region\" was added to the dataframe.\n",
      "Higher values indicate a higher risk of fraud.\n",
      "\n",
      " Category 0: 32.14%\n",
      " Category 1: 48.95%\n",
      " Category 2: 18.91%\n"
     ]
    },
    {
     "data": {
      "text/html": [
       "<div>\n",
       "<style scoped>\n",
       "    .dataframe tbody tr th:only-of-type {\n",
       "        vertical-align: middle;\n",
       "    }\n",
       "\n",
       "    .dataframe tbody tr th {\n",
       "        vertical-align: top;\n",
       "    }\n",
       "\n",
       "    .dataframe thead th {\n",
       "        text-align: right;\n",
       "    }\n",
       "</style>\n",
       "<table border=\"1\" class=\"dataframe\">\n",
       "  <thead>\n",
       "    <tr style=\"text-align: right;\">\n",
       "      <th></th>\n",
       "      <th>district</th>\n",
       "      <th>client_id</th>\n",
       "      <th>client_category</th>\n",
       "      <th>region</th>\n",
       "      <th>creation_date</th>\n",
       "      <th>target</th>\n",
       "      <th>risk_region</th>\n",
       "    </tr>\n",
       "  </thead>\n",
       "  <tbody>\n",
       "    <tr>\n",
       "      <th>0</th>\n",
       "      <td>60</td>\n",
       "      <td>0</td>\n",
       "      <td>11</td>\n",
       "      <td>101</td>\n",
       "      <td>1994-12-31</td>\n",
       "      <td>0</td>\n",
       "      <td>0</td>\n",
       "    </tr>\n",
       "    <tr>\n",
       "      <th>1</th>\n",
       "      <td>69</td>\n",
       "      <td>1</td>\n",
       "      <td>11</td>\n",
       "      <td>107</td>\n",
       "      <td>2002-05-29</td>\n",
       "      <td>0</td>\n",
       "      <td>1</td>\n",
       "    </tr>\n",
       "  </tbody>\n",
       "</table>\n",
       "</div>"
      ],
      "text/plain": [
       "  district client_id client_category region creation_date target risk_region\n",
       "0       60         0              11    101    1994-12-31      0           0\n",
       "1       69         1              11    107    2002-05-29      0           1"
      ]
     },
     "execution_count": 19,
     "metadata": {},
     "output_type": "execute_result"
    }
   ],
   "source": [
    "# 2. Create new feature\n",
    "df_client = create_fraud_risk_feature(df_client, \n",
    "                                      feature_in='region', \n",
    "                                      new_categories=risk_categories_region, \n",
    "                                      verbose=True)\n",
    "df_client.head(2)"
   ]
  },
  {
   "cell_type": "code",
   "execution_count": 20,
   "metadata": {},
   "outputs": [
    {
     "name": "stdout",
     "output_type": "stream",
     "text": [
      "Categorical features:\n",
      "['risk_region']\n",
      "\n",
      "Numerical features:\n",
      "[]\n"
     ]
    }
   ],
   "source": [
    "# 3. Save feature names for modelling\n",
    "\n",
    "CAT_FEATURES = add_feature_to_list('risk_region', CAT_FEATURES)\n",
    "\n",
    "print(f'Categorical features:\\n{CAT_FEATURES}')\n",
    "print(f'\\nNumerical features:\\n{NUM_FEATURES}')"
   ]
  },
  {
   "cell_type": "markdown",
   "metadata": {},
   "source": [
    "### Feature `district`"
   ]
  },
  {
   "cell_type": "code",
   "execution_count": 21,
   "metadata": {},
   "outputs": [
    {
     "data": {
      "image/png": "[encoded data removed]",
      "text/plain": [
       "<Figure size 1200x500 with 2 Axes>"
      ]
     },
     "metadata": {},
     "output_type": "display_data"
    },
    {
     "name": "stdout",
     "output_type": "stream",
     "text": [
      "The feature district has 4 categories that are reassigned to the new feature \"fraud risk\".\n",
      "\"Fraud risk\" has 3 levels ('low', 'normal', 'high')\n",
      "Normal risk is defined within the dashed lines (baseline of 5.58 +/- 1.5).\n",
      "\n",
      "low: ['60']\n",
      "normal: ['63', '62']\n",
      "high: ['69']\n"
     ]
    }
   ],
   "source": [
    "# 1. Plotting\n",
    "grouped_df_district, risk_categories_district  = subplopts_fraud_per_category(df_client, \n",
    "                                                                              feature='district', \n",
    "                                                                              fraud_baseline=FRAUD_BASELINE, \n",
    "                                                                              fraud_range=FRAUD_RANGE, \n",
    "                                                                              verbose=True)"
   ]
  },
  {
   "cell_type": "markdown",
   "metadata": {},
   "source": [
    "Comment:\n",
    "*   the fraud rate seems to be a little higher than baseline range in district 69 and lower in discrict 60\n",
    "*   aggregate the districts to a new feature `risk_district` with 3 levels low, normal, high (as above) "
   ]
  },
  {
   "cell_type": "code",
   "execution_count": 22,
   "metadata": {},
   "outputs": [
    {
     "name": "stdout",
     "output_type": "stream",
     "text": [
      "\n",
      "New feature \"risk_district\" was added to the dataframe.\n",
      "Higher values indicate a higher risk of fraud.\n",
      "\n",
      " Category 0: 23.56%\n",
      " Category 1: 51.18%\n",
      " Category 2: 25.26%\n"
     ]
    },
    {
     "data": {
      "text/html": [
       "<div>\n",
       "<style scoped>\n",
       "    .dataframe tbody tr th:only-of-type {\n",
       "        vertical-align: middle;\n",
       "    }\n",
       "\n",
       "    .dataframe tbody tr th {\n",
       "        vertical-align: top;\n",
       "    }\n",
       "\n",
       "    .dataframe thead th {\n",
       "        text-align: right;\n",
       "    }\n",
       "</style>\n",
       "<table border=\"1\" class=\"dataframe\">\n",
       "  <thead>\n",
       "    <tr style=\"text-align: right;\">\n",
       "      <th></th>\n",
       "      <th>district</th>\n",
       "      <th>client_id</th>\n",
       "      <th>client_category</th>\n",
       "      <th>region</th>\n",
       "      <th>creation_date</th>\n",
       "      <th>target</th>\n",
       "      <th>risk_region</th>\n",
       "      <th>risk_district</th>\n",
       "    </tr>\n",
       "  </thead>\n",
       "  <tbody>\n",
       "    <tr>\n",
       "      <th>0</th>\n",
       "      <td>60</td>\n",
       "      <td>0</td>\n",
       "      <td>11</td>\n",
       "      <td>101</td>\n",
       "      <td>1994-12-31</td>\n",
       "      <td>0</td>\n",
       "      <td>0</td>\n",
       "      <td>0</td>\n",
       "    </tr>\n",
       "    <tr>\n",
       "      <th>1</th>\n",
       "      <td>69</td>\n",
       "      <td>1</td>\n",
       "      <td>11</td>\n",
       "      <td>107</td>\n",
       "      <td>2002-05-29</td>\n",
       "      <td>0</td>\n",
       "      <td>1</td>\n",
       "      <td>2</td>\n",
       "    </tr>\n",
       "  </tbody>\n",
       "</table>\n",
       "</div>"
      ],
      "text/plain": [
       "  district client_id client_category region creation_date target risk_region   \n",
       "0       60         0              11    101    1994-12-31      0           0  \\\n",
       "1       69         1              11    107    2002-05-29      0           1   \n",
       "\n",
       "  risk_district  \n",
       "0             0  \n",
       "1             2  "
      ]
     },
     "execution_count": 22,
     "metadata": {},
     "output_type": "execute_result"
    }
   ],
   "source": [
    "# 2. Create new feature\n",
    "df_client = create_fraud_risk_feature(df_client, \n",
    "                                      feature_in='district', \n",
    "                                      new_categories=risk_categories_district, \n",
    "                                      verbose=True)\n",
    "df_client.head(2)"
   ]
  },
  {
   "cell_type": "code",
   "execution_count": 23,
   "metadata": {},
   "outputs": [
    {
     "name": "stdout",
     "output_type": "stream",
     "text": [
      "Categorical features:\n",
      "['risk_region', 'risk_district']\n",
      "\n",
      "Numerical features:\n",
      "[]\n"
     ]
    }
   ],
   "source": [
    "# 3. Save feature names for modelling\n",
    "\n",
    "CAT_FEATURES = add_feature_to_list('risk_district', CAT_FEATURES)\n",
    "\n",
    "print(f'Categorical features:\\n{CAT_FEATURES}')\n",
    "print(f'\\nNumerical features:\\n{NUM_FEATURES}')"
   ]
  },
  {
   "cell_type": "markdown",
   "metadata": {},
   "source": [
    "to be continued ... "
   ]
  },
  {
   "cell_type": "markdown",
   "metadata": {},
   "source": []
  }
 ],
 "metadata": {
  "kernelspec": {
   "display_name": ".venv",
   "language": "python",
   "name": "python3"
  },
  "language_info": {
   "codemirror_mode": {
    "name": "ipython",
    "version": 3
   },
   "file_extension": ".py",
   "mimetype": "text/x-python",
   "name": "python",
   "nbconvert_exporter": "python",
   "pygments_lexer": "ipython3",
   "version": "3.11.3"
  }
 },
 "nbformat": 4,
 "nbformat_minor": 2
}
